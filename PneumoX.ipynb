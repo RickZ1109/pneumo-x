{
  "nbformat": 4,
  "nbformat_minor": 0,
  "metadata": {
    "colab": {
      "provenance": []
    },
    "kernelspec": {
      "name": "python3",
      "display_name": "Python 3"
    },
    "language_info": {
      "name": "python"
    }
  },
  "cells": [
    {
      "cell_type": "code",
      "execution_count": null,
      "metadata": {
        "id": "xvoMRwMaF41E",
        "colab": {
          "base_uri": "https://localhost:8080/",
          "height": 441
        },
        "outputId": "ebe77ccb-2a84-452a-e620-7aae8db149fb"
      },
      "outputs": [
        {
          "output_type": "stream",
          "name": "stdout",
          "text": [
            "1/1 [==============================] - 0s 363ms/step\n"
          ]
        },
        {
          "output_type": "display_data",
          "data": {
            "text/plain": [
              "<Figure size 640x480 with 1 Axes>"
            ],
            "image/png": "[encoded data removed]"
          },
          "metadata": {}
        },
        {
          "output_type": "stream",
          "name": "stdout",
          "text": [
            "A probabilidade de pneumonia é de: 0.00%\n"
          ]
        }
      ],
      "source": [
        "import numpy as np  # Importa a biblioteca NumPy e a renomeia como np para facilitar o acesso aos seus métodos.\n",
        "import matplotlib.pyplot as plt  # Importa a biblioteca Matplotlib para visualização de dados e a renomeia como plt.\n",
        "import warnings  # Importa a biblioteca de avisos do Python para manipular avisos durante a execução do código.\n",
        "import PIL  # Importa o módulo PIL (Python Imaging Library) para manipulação de imagens.\n",
        "import tensorflow as tf  # Importa a biblioteca TensorFlow para aprendizado de máquina e deep learning.\n",
        "from tensorflow.keras.preprocessing.image import ImageDataGenerator  # Importa a classe ImageDataGenerator do TensorFlow para pré-processamento de imagens.\n",
        "from tensorflow.keras.applications import VGG16  # Importa a arquitetura de rede neural pré-treinada VGG16 do TensorFlow.\n",
        "from tensorflow.keras.models import Model  # Importa a classe Model do TensorFlow para construir e manipular modelos de redes neurais.\n",
        "\n",
        "\n",
        "def predict_pneumonia(image_path, model):\n",
        "    # Carrega a imagem e pré-processa\n",
        "    img = load_img(image_path, target_size=(64, 64))\n",
        "    img_array = img_to_array(img)\n",
        "    img_array = np.expand_dims(img_array, axis=0)\n",
        "    img_array = preprocess_input(img_array)\n",
        "\n",
        "    # Realiza a previsão\n",
        "    prediction = model.predict(img_array)\n",
        "\n",
        "    # Exibi a imagem\n",
        "    plt.imshow(img)\n",
        "    plt.axis('off')\n",
        "    plt.show()\n",
        "\n",
        "    # Interpreta a previsão\n",
        "    pneumonia_prob = prediction[0][0]\n",
        "    print('A probabilidade de pneumonia é de: {:.2f}%'.format(pneumonia_prob * 100))\n",
        "\n",
        "# Carrega dados\n",
        "test_dir = '/content/drive/MyDrive/raio-x-torax/teste'\n",
        "\n",
        "# Carrega o modelo pré-treinado (VGG16) e remove a camada de saída\n",
        "base_model = tf.keras.applications.VGG16(weights='imagenet', include_top=False, input_shape=(64, 64, 3))\n",
        "\n",
        "# Adiciona camadas adicionais ao modelo\n",
        "x = base_model.output\n",
        "x = tf.keras.layers.Flatten()(x) # transforma os dados da última camada convolucional ou de pooling do modelo base em um vetor unidimensional\n",
        "x = tf.keras.layers.Dense(256, activation='relu')(x) # Comumente usada para processar a saída da camada de achatamento e realizar aprendizado de características mais abstratas.\n",
        "x = tf.keras.layers.Dropout(0.5)(x) # Força a rede a aprender características de forma mais robusta e geral.\n",
        "predictions = tf.keras.layers.Dense(1, activation='sigmoid')(x)\n",
        "\n",
        "# Combina o modelo base com as camadas adicionais\n",
        "model = Model(inputs=base_model.input, outputs=predictions)\n",
        "\n",
        "# Carrega os pesos do modelo treinado\n",
        "model.load_weights('/content/drive/MyDrive/model_weights.h5')\n",
        "\n",
        "# Caminho da imagem para análise\n",
        "image_path = '/content/drive/MyDrive/raio-x-torax/teste/normal/IM-0001-0001.jpeg'\n",
        "\n",
        "# Chama a função para fazer previsões na imagem específica\n",
        "predict_pneumonia(image_path, model)\n"
      ]
    }
  ]
}